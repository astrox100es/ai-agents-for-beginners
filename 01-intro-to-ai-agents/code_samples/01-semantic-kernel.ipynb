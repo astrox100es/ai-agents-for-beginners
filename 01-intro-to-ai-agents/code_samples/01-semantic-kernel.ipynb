{
 "cells": [
  {
   "cell_type": "markdown",
   "metadata": {},
   "source": [
    "# Semantic Kernel \n",
    "\n",
    "In this code sample, you will use the [Semantic Kernel](https://aka.ms/ai-agents-beginners/semantic-kernel) AI Framework to create a basic agent. \n",
    "\n",
    "The goal of this sample is to show you the steps that we will later use in the addtional code samples when implementing the different agentic patterns. "
   ]
  },
  {
   "cell_type": "markdown",
   "metadata": {},
   "source": [
    "## Import the Needed Python Packages "
   ]
  },
  {
   "cell_type": "code",
   "execution_count": 1,
   "metadata": {},
   "outputs": [],
   "source": [
    "import os \n",
    "from typing import Annotated\n",
    "from openai import AsyncOpenAI\n",
    "\n",
    "from dotenv import load_dotenv\n",
    "\n",
    "from semantic_kernel.agents import ChatCompletionAgent, ChatHistoryAgentThread\n",
    "from semantic_kernel.connectors.ai.open_ai import OpenAIChatCompletion\n",
    "from semantic_kernel.functions import kernel_function"
   ]
  },
  {
   "cell_type": "markdown",
   "metadata": {},
   "source": [
    "## Creating the Client\n",
    "\n",
    "In this sample, we will use [GitHub Models](https://aka.ms/ai-agents-beginners/github-models) for access to the LLM. \n",
    "\n",
    "The `ai_model_id` is defined as `gpt-4o-mini`. Try changing the model to another model available on the GitHub Models marketplace to see the different results. \n",
    "\n",
    "For us to use the `Azure Inference SDK` that is used for the `base_url` for GitHub Models, we will use the `OpenAIChatCompletion` connector within Semantic Kernel. There are also other [available connectors](https://learn.microsoft.com/semantic-kernel/concepts/ai-services/chat-completion) to use Semantic Kernel for other model providers."
   ]
  },
  {
   "cell_type": "code",
   "execution_count": null,
   "metadata": {},
   "outputs": [],
   "source": [
    "import random   \n",
    "\n",
    "# Define a sample plugin for the sample\n",
    "\n",
    "class DestinationsPlugin:\n",
    "    \"\"\"A List of Random Destinations for a vacation.\"\"\"\n",
    "\n",
    "    def __init__(self):\n",
    "        # List of vacation destinations\n",
    "        self.destinations = [\n",
    "            \"Barcelona, Spain\",\n",
    "            # \"Paris, France\",\n",
    "            # \"Berlin, Germany\",\n",
    "            # \"Tokyo, Japan\",\n",
    "            # \"Sydney, Australia\",\n",
    "            # \"New York, USA\",\n",
    "            # \"Cairo, Egypt\",\n",
    "            # \"Cape Town, South Africa\",\n",
    "            # \"Rio de Janeiro, Brazil\",\n",
    "            # \"Bali, Indonesia\",\n",
    "            \"Kyiv, Ukraine\"\n",
    "        ]\n",
    "        # Track last destination to avoid repeats\n",
    "        self.last_destination = None\n",
    "\n",
    "    @kernel_function(description=\"Provides a random vacation destination.\")\n",
    "    def get_random_destination(self) -> Annotated[str, \"Returns a random vacation destination.\"]:\n",
    "        # Get available destinations (excluding last one if possible)\n",
    "        available_destinations = self.destinations.copy()\n",
    "        if self.last_destination and len(available_destinations) > 1:\n",
    "            available_destinations.remove(self.last_destination)\n",
    "\n",
    "        # Select a random destination\n",
    "        destination = random.choice(available_destinations)\n",
    "\n",
    "        # Update the last destination\n",
    "        self.last_destination = destination\n",
    "\n",
    "        return destination"
   ]
  },
  {
   "cell_type": "code",
   "execution_count": 3,
   "metadata": {},
   "outputs": [],
   "source": [
    "load_dotenv()\n",
    "client = AsyncOpenAI(\n",
    "    api_key=os.environ.get(\"GITHUB_TOKEN\"), \n",
    "    base_url=\"https://models.inference.ai.azure.com/\",\n",
    ")\n",
    "\n",
    "# Create an AI Service that will be used by the `ChatCompletionAgent`\n",
    "chat_completion_service = OpenAIChatCompletion(\n",
    "    ai_model_id=\"gpt-4o-mini\",\n",
    "    async_client=client,\n",
    ")"
   ]
  },
  {
   "cell_type": "markdown",
   "metadata": {},
   "source": [
    "## Creating the Agent \n",
    "\n",
    "Below we create the Agent called `TravelAgent`.\n",
    "\n",
    "For this example, we are using very simple instructions. You can change these instructions to see how the agent responds differently. "
   ]
  },
  {
   "cell_type": "code",
   "execution_count": 4,
   "metadata": {},
   "outputs": [],
   "source": [
    "agent = ChatCompletionAgent(\n",
    "    service=chat_completion_service, \n",
    "    plugins=[DestinationsPlugin()],\n",
    "    name=\"TravelAgent\",\n",
    "    instructions=\"You are a helpful AI Agent that can help plan vacations for customers at random destinations\",\n",
    ")"
   ]
  },
  {
   "cell_type": "markdown",
   "metadata": {},
   "source": [
    "## Running the Agent\n",
    "\n",
    "Now we can run the Agent by defining a thread of type `ChatHistoryAgentThread`.  Any required system messages are provided to the agent's invoke_stream `messages` keyword argument.\n",
    "\n",
    "After these are defined, we create a `user_inputs` that will be what the user is sending to the agent. In this case, we have set this message to `Plan me a sunny vacation`. \n",
    "\n",
    "Feel free to change this message to see how the agent responds differently. "
   ]
  },
  {
   "cell_type": "code",
   "execution_count": 6,
   "metadata": {},
   "outputs": [
    {
     "name": "stdout",
     "output_type": "stream",
     "text": [
      "# User: Plan me a day trip.\n",
      "\n",
      "# TravelAgent: How about a day trip to Sydney, Australia? Here’s a suggested itinerary for your perfect day:\n",
      "\n",
      "### Morning\n",
      "- **Breakfast at a Local Café**: Start your day with a delicious breakfast at a café in The Rocks. Try the famous Australian avocado toast or a classic café-style breakfast.\n",
      "- **Sydney Harbour Bridge Walk**: Take a leisurely walk across the Sydney Harbour Bridge for stunning views of the Sydney Opera House and the city skyline.\n",
      "\n",
      "### Midday\n",
      "- **Visit the Sydney Opera House**: Explore the iconic Sydney Opera House. You can take a guided tour or simply admire the architecture from the outside and enjoy the surrounding gardens.\n",
      "- **Lunch at Circular Quay**: Choose from a variety of restaurants at Circular Quay. Enjoy fresh seafood or some Australian favorites while overlooking the harbor.\n",
      "\n",
      "### Afternoon\n",
      "- **Royal Botanic Garden**: Stroll through the beautiful Royal Botanic Garden. It’s a peaceful place to relax and enjoy nature right in the heart of the city.\n",
      "- **Manly Beach**: Hop on a ferry from Circular Quay to Manly Beach. Enjoy the scenic views during the ferry ride and spend some time relaxing on the beach or exploring local shops.\n",
      "\n",
      "### Evening\n",
      "- **Dinner at Manly**: Enjoy dinner at one of the beachside restaurants. Try some classic fish and chips or indulge in a delicious seafood platter.\n",
      "- **Sunset at the Beach**: Take a leisurely walk along the beach and catch the beautiful sunset.\n",
      "\n",
      "### Night\n",
      "- **Ferry Back to Sydney**: Head back to the city on the ferry, enjoying the city lights reflecting on the water.\n",
      "\n",
      "This day trip offers a mix of relaxation, sightseeing, and delicious food, making the most of your time in Sydney! Enjoy your adventure!\n",
      "# User: No I do not like that, is there something else?\n",
      "\n",
      "# TravelAgent: How about a day trip to Barcelona, Spain? Here's a fresh itinerary for your adventure:\n",
      "\n",
      "### Morning\n",
      "- **Breakfast at a Local Bakery**: Start your day with a traditional Spanish breakfast of churros and hot chocolate at a charming café in the Gothic Quarter.\n",
      "- **Explore La Sagrada Familia**: Visit Antoni Gaudí's iconic basilica. Book tickets in advance to skip the lines and admire the stunning architecture and intricate designs.\n",
      "\n",
      "### Midday\n",
      "- **Stroll on Las Ramblas**: Take a leisurely walk down Las Ramblas, the famous street lined with shops, cafes, and street performers. Don't forget to check out La Boqueria Market for some snacks!\n",
      "- **Lunch in El Born**: Enjoy lunch in the trendy El Born neighborhood. Try tapas at a local tavern or savor some paella at a restaurant.\n",
      "\n",
      "### Afternoon\n",
      "- **Visit Park Güell**: Head to Park Güell, another of Gaudí's masterpieces. Explore the colorful mosaics, unique structures, and lush gardens while enjoying panoramic views of the city.\n",
      "- **Relax at Barceloneta Beach**: Spend some time at Barceloneta Beach soaking up the sun or taking a refreshing swim in the Mediterranean Sea.\n",
      "\n",
      "### Evening\n",
      "- **Dinner at a Beachfront Restaurant**: Treat yourself to dinner at a beachfront restaurant. Choose from a seafood dish or local specialties while enjoying the ocean breeze.\n",
      "- **Enjoy Flamenco Show**: Conclude your day with a passionate flamenco show at a local tablao. Experience the vibrant culture and music of Spain.\n",
      "\n",
      "This alternative day trip to Barcelona offers a mix of culture, relaxation, and delightful cuisine. Enjoy your time in this beautiful city!\n"
     ]
    }
   ],
   "source": [
    "async def main():\n",
    "    # Create a new thread for the agent\n",
    "    # If no thread is provided, a new thread will be\n",
    "    # created and returned with the initial response\n",
    "    thread: ChatHistoryAgentThread | None = None\n",
    "\n",
    "    user_inputs = [\n",
    "        \"Plan me a day trip.\",\n",
    "        \"No I do not like that, is there something else?\"\n",
    "    ]\n",
    "\n",
    "    for user_input in user_inputs:\n",
    "        print(f\"# User: {user_input}\\n\")\n",
    "        first_chunk = True\n",
    "        async for response in agent.invoke_stream(\n",
    "            messages=user_input, thread=thread,\n",
    "        ):\n",
    "            # 5. Print the response\n",
    "            if first_chunk:\n",
    "                print(f\"# {response.name}: \", end=\"\", flush=True)\n",
    "                first_chunk = False\n",
    "            print(f\"{response}\", end=\"\", flush=True)\n",
    "            thread = response.thread\n",
    "        print()\n",
    "\n",
    "    # Clean up the thread\n",
    "    await thread.delete() if thread else None\n",
    "\n",
    "await main()"
   ]
  }
 ],
 "metadata": {
  "kernelspec": {
   "display_name": ".venv",
   "language": "python",
   "name": "python3"
  },
  "language_info": {
   "codemirror_mode": {
    "name": "ipython",
    "version": 3
   },
   "file_extension": ".py",
   "mimetype": "text/x-python",
   "name": "python",
   "nbconvert_exporter": "python",
   "pygments_lexer": "ipython3",
   "version": "3.13.3"
  }
 },
 "nbformat": 4,
 "nbformat_minor": 2
}
